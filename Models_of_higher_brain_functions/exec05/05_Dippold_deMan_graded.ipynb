{
 "cells": [
  {
   "cell_type": "markdown",
   "metadata": {},
   "source": [
    "## Evaluation\n",
    "\n",
    "Exercise 1: Extended Drift-Diffusion-Model\n",
    "\n",
    "1.)\n",
    ">Use euler-maruyama to run 5 simulations of a DDM - <span style=\"color:red\">1/1</span><br>\n",
    "\n",
    "2.)\n",
    ">Run 200 trials for different $\\mu$ and plot the percentage of \"up\" responses- <span style=\"color:red\">1.5/2 *(With a = [1, -100] you will count trials as up responses than first cross the lower threshold a=-1 but then bounce back to a=+1.)*</span><br>\n",
    ">Implement a solution for non-decisions - <span style=\"color:red\">0/1</span><br>\n",
    ">Double and halve the decision boundary $a$ - <span style=\"color:red\">1/1</span><br>\n",
    ">Discussion - <span style=\"color:red\">0/2</span><br>\n",
    "\n",
    "3.)\n",
    ">Find a value $\\mu$ with 70% \"up\" responses - <span style=\"color:red\">1/1</span><br>\n",
    ">Simulate 2000 trials - <span style=\"color:red\">1/1</span><br>\n",
    "\n",
    "4.)\n",
    ">Plot the reaction time distribution for each of the two choices - <span style=\"color:red\">2/2</span><br>\n",
    ">Calculate mean for the two choices - <span style=\"color:red\">2/2</span><br>\n",
    ">Discuss the distributions - <span style=\"color:red\">1/2 *(Discussion of the shape of the distribution missing. The expectation of lower reaction times would only be relevant if there was information on the actual task, but here we are looking at a qualitative model.)*</span><br>\n",
    "\n",
    "5.)\n",
    ">Implement noise in the drift - <span style=\"color:red\">1/1</span><br>\n",
    ">Find a distribution of the drift value that results in 70% \"up\" responses - <span style=\"color:red\">1/1</span><br>\n",
    ">Calculate mean - <span style=\"color:red\">1/1</span><br>\n",
    ">Plot reaction times - <span style=\"color:red\">1/1</span><br>\n",
    ">Discuss your choice of parameters and results - <span style=\"color:red\">1/1</span><br>\n",
    "\n",
    "Total <span style=\"color:red\">15.5/20</span><br>"
   ]
  },
  {
   "cell_type": "markdown",
   "metadata": {
    "colab_type": "text",
    "id": "fScCar8Rk3SC"
   },
   "source": [
    "# Exercise 5: Decision Making I\n",
    "### Lukas Dippold and Evert de Man"
   ]
  },
  {
   "cell_type": "markdown",
   "metadata": {
    "colab_type": "text",
    "id": "mh7zby2sk3SD"
   },
   "source": [
    "#### 1: Extended drift-diffusion model"
   ]
  },
  {
   "cell_type": "code",
   "execution_count": 1,
   "metadata": {
    "ExecuteTime": {
     "end_time": "2018-05-30T12:50:05.254705Z",
     "start_time": "2018-05-30T12:50:04.096144Z"
    },
    "colab": {
     "autoexec": {
      "startup": false,
      "wait_interval": 0
     }
    },
    "colab_type": "code",
    "collapsed": true,
    "id": "DqmenCkck3SE"
   },
   "outputs": [],
   "source": [
    "import numpy as np\n",
    "import matplotlib.pyplot as plt\n",
    "import math"
   ]
  },
  {
   "cell_type": "markdown",
   "metadata": {
    "colab_type": "text",
    "id": "MJ7TYyD9k3SH"
   },
   "source": [
    "##### (1)"
   ]
  },
  {
   "cell_type": "code",
   "execution_count": 2,
   "metadata": {
    "ExecuteTime": {
     "end_time": "2018-05-30T12:50:05.292099Z",
     "start_time": "2018-05-30T12:50:05.257778Z"
    },
    "colab": {
     "autoexec": {
      "startup": false,
      "wait_interval": 0
     }
    },
    "colab_type": "code",
    "collapsed": true,
    "id": "sqMb-206k3SJ"
   },
   "outputs": [],
   "source": [
    "# Edited Euler-Maruyama function that also returns the end time and result\n",
    "#(when the decision boundary is reached).\n",
    "\n",
    "def euler_maruyama(f_func, g_func, x_0, t, dt, a):\n",
    "    y = np.zeros(len(t))\n",
    "    for i, t_val in enumerate(t):\n",
    "        if t_val == 0:\n",
    "            y[i] = x_0\n",
    "        else:\n",
    "            W = np.random.standard_normal(1)\n",
    "            y[i] = (y[i-1] + f_func(y[i-1], t_val) * dt \n",
    "                        + g_func(y[i-1], t_val) * np.sqrt(dt) * W)\n",
    "            if y[i] > a[0]:\n",
    "                result = 1\n",
    "                break\n",
    "            if y[i] < a[1]:\n",
    "                result = -1\n",
    "                break\n",
    "            result = 0\n",
    "    return y, i*dt, result"
   ]
  },
  {
   "cell_type": "code",
   "execution_count": 3,
   "metadata": {
    "ExecuteTime": {
     "end_time": "2018-05-30T12:50:05.313863Z",
     "start_time": "2018-05-30T12:50:05.295277Z"
    },
    "colab": {
     "autoexec": {
      "startup": false,
      "wait_interval": 0
     }
    },
    "colab_type": "code",
    "collapsed": true,
    "id": "7fWSqrvKk3SL"
   },
   "outputs": [],
   "source": [
    "# Initialization\n",
    "sigma = 0.5\n",
    "mu = 0.2\n",
    "X_0 = 0\n",
    "dt = 0.01\n",
    "t_max = 10\n",
    "ts = np.arange(0, t_max + dt, dt)\n",
    "it = 5\n",
    "\n",
    "def ffunc(x, t):\n",
    "    return mu\n",
    "\n",
    "def gfunc(x, t):\n",
    "    return sigma"
   ]
  },
  {
   "cell_type": "code",
   "execution_count": 4,
   "metadata": {
    "ExecuteTime": {
     "end_time": "2018-05-30T12:50:05.869670Z",
     "start_time": "2018-05-30T12:50:05.318846Z"
    },
    "colab": {
     "autoexec": {
      "startup": false,
      "wait_interval": 0
     },
     "base_uri": "https://localhost:8080/",
     "height": 376
    },
    "colab_type": "code",
    "executionInfo": {
     "elapsed": 1055,
     "status": "ok",
     "timestamp": 1527677532271,
     "user": {
      "displayName": "Lukas Dippold",
      "photoUrl": "https://lh3.googleusercontent.com/a/default-user=s128",
      "userId": "108142376233993843599"
     },
     "user_tz": -120
    },
    "id": "EnkHr4txk3SQ",
    "outputId": "50abce32-b457-47de-8bba-8456443bd3c7"
   },
   "outputs": [
    {
     "data": {
      "image/png": "[encoded data removed]",
      "text/plain": [
       "<matplotlib.figure.Figure at 0x10e82e2b0>"
      ]
     },
     "metadata": {},
     "output_type": "display_data"
    }
   ],
   "source": [
    "for _ in range(it):\n",
    "    y, end_time, result = euler_maruyama(ffunc, gfunc, X_0, ts, dt, [100, -100])\n",
    "    plt.plot(ts, y)\n",
    "\n",
    "plt.xlabel(\"time [s]\")\n",
    "plt.ylabel(\"X\")\n",
    "plt.title(\"Simulations\")\n",
    "plt.show()"
   ]
  },
  {
   "cell_type": "markdown",
   "metadata": {
    "colab_type": "text",
    "id": "O8QmFTJEk3SW"
   },
   "source": [
    "##### (2)"
   ]
  },
  {
   "cell_type": "code",
   "execution_count": 5,
   "metadata": {
    "ExecuteTime": {
     "end_time": "2018-05-30T12:50:05.898775Z",
     "start_time": "2018-05-30T12:50:05.872739Z"
    },
    "colab": {
     "autoexec": {
      "startup": false,
      "wait_interval": 0
     }
    },
    "colab_type": "code",
    "collapsed": true,
    "id": "ayqtdcstk3SX"
   },
   "outputs": [],
   "source": [
    "def check_up(a, mu_values, no_trials = 200):\n",
    "    perc_ups = np.zeros(len(mu_values))\n",
    "    \n",
    "    for i, mu in enumerate(mu_values):\n",
    "        \n",
    "        def ffunc(x, t):\n",
    "            return mu\n",
    "        up_or_not = np.zeros(no_trials)\n",
    "        \n",
    "        for j in range(no_trials):\n",
    "            X, end_time, result = euler_maruyama(ffunc, gfunc, X_0, ts, dt, [a, -100])\n",
    "            if result == 1:\n",
    "                up_or_not[j] = 1\n",
    "        perc_ups[i] = np.sum(up_or_not) / no_trials * 100\n",
    "        \n",
    "    return perc_ups"
   ]
  },
  {
   "cell_type": "code",
   "execution_count": 6,
   "metadata": {
    "ExecuteTime": {
     "end_time": "2018-05-30T12:50:05.925561Z",
     "start_time": "2018-05-30T12:50:05.901862Z"
    },
    "colab": {
     "autoexec": {
      "startup": false,
      "wait_interval": 0
     }
    },
    "colab_type": "code",
    "collapsed": true,
    "id": "2R1n28nok3SZ"
   },
   "outputs": [],
   "source": [
    "# Initialization\n",
    "sigma = 0.5\n",
    "X_0 = 0\n",
    "mu_values = [-0.1, 0, 0.1, 0.2, 0.5]\n",
    "a_values = [1, 2, 0.5]\n",
    "dt = 0.01\n",
    "t_max = 10\n",
    "ts = np.arange(0, t_max + dt, dt)\n",
    "\n",
    "def ffunc(x, t):\n",
    "    return mu\n",
    "\n",
    "def gfunc(x, t):\n",
    "    return sigma"
   ]
  },
  {
   "cell_type": "code",
   "execution_count": 7,
   "metadata": {
    "ExecuteTime": {
     "end_time": "2018-05-30T12:50:31.846439Z",
     "start_time": "2018-05-30T12:50:05.929840Z"
    },
    "colab": {
     "autoexec": {
      "startup": false,
      "wait_interval": 0
     }
    },
    "colab_type": "code",
    "collapsed": true,
    "id": "Dkyb6q_4k3Sc"
   },
   "outputs": [],
   "source": [
    "# Calculate all values\n",
    "X = np.zeros([len(a_values), len(mu_values)])\n",
    "\n",
    "for i, a in enumerate(a_values):\n",
    "    X[i, :] = check_up(a, mu_values, no_trials = 200)"
   ]
  },
  {
   "cell_type": "code",
   "execution_count": 8,
   "metadata": {
    "ExecuteTime": {
     "end_time": "2018-05-30T12:50:32.393516Z",
     "start_time": "2018-05-30T12:50:31.848919Z"
    },
    "colab": {
     "autoexec": {
      "startup": false,
      "wait_interval": 0
     },
     "base_uri": "https://localhost:8080/",
     "height": 365
    },
    "colab_type": "code",
    "executionInfo": {
     "elapsed": 781,
     "status": "ok",
     "timestamp": 1527677550084,
     "user": {
      "displayName": "Lukas Dippold",
      "photoUrl": "https://lh3.googleusercontent.com/a/default-user=s128",
      "userId": "108142376233993843599"
     },
     "user_tz": -120
    },
    "id": "20Lif3EYk3Sg",
    "outputId": "1d54cc32-85e7-4371-f540-b4825cb0ccef"
   },
   "outputs": [
    {
     "data": {
      "image/png": "[encoded data removed]",
      "text/plain": [
       "<matplotlib.figure.Figure at 0x11425a908>"
      ]
     },
     "metadata": {},
     "output_type": "display_data"
    }
   ],
   "source": [
    "# Plot the results for all mu and a values\n",
    "\n",
    "for i, a in enumerate(a_values):\n",
    "    plt.plot(mu_values, X[i, :], label = \"a = \" + str(a))\n",
    "\n",
    "plt.legend()\n",
    "plt.xlabel(r\"values for $\\mu$\")\n",
    "plt.ylabel(\"percentage of up trials\")\n",
    "plt.ylim([0, 105])\n",
    "plt.show()"
   ]
  },
  {
   "cell_type": "markdown",
   "metadata": {
    "colab_type": "text",
    "id": "szJlZltKk3Sn"
   },
   "source": [
    "##### (3)"
   ]
  },
  {
   "cell_type": "code",
   "execution_count": 9,
   "metadata": {
    "ExecuteTime": {
     "end_time": "2018-05-30T12:50:43.173123Z",
     "start_time": "2018-05-30T12:50:32.396651Z"
    },
    "colab": {
     "autoexec": {
      "startup": false,
      "wait_interval": 0
     }
    },
    "colab_type": "code",
    "collapsed": true,
    "id": "CFxXIP9Ck3So"
   },
   "outputs": [],
   "source": [
    "# From task (2) we know: If we say a = 1, then 70% gives a mu of about 0.12\n",
    "\n",
    "# Initialization\n",
    "sigma = 0.5\n",
    "X_0 = 0\n",
    "mu = 0.12\n",
    "a = [1, -1]\n",
    "dt = 0.01\n",
    "t_max = 10\n",
    "ts = np.arange(0, t_max + dt, dt)\n",
    "no_trials = 2000\n",
    "\n",
    "def ffunc(x, t):\n",
    "    return mu\n",
    "\n",
    "def gfunc(x, t):\n",
    "    return sigma\n",
    "\n",
    "end_times = np.zeros(no_trials)\n",
    "results = np.zeros(no_trials)\n",
    "\n",
    "for i in range(no_trials):\n",
    "    _, end_times[i], results[i] = euler_maruyama(ffunc, gfunc, X_0, ts, dt, a)"
   ]
  },
  {
   "cell_type": "markdown",
   "metadata": {
    "colab_type": "text",
    "id": "GpDp-Gf2k3Sr"
   },
   "source": [
    "##### (4)"
   ]
  },
  {
   "cell_type": "code",
   "execution_count": 10,
   "metadata": {
    "ExecuteTime": {
     "end_time": "2018-05-30T12:50:43.748944Z",
     "start_time": "2018-05-30T12:50:43.175490Z"
    },
    "colab": {
     "autoexec": {
      "startup": false,
      "wait_interval": 0
     },
     "base_uri": "https://localhost:8080/",
     "height": 770
    },
    "colab_type": "code",
    "executionInfo": {
     "elapsed": 1019,
     "status": "ok",
     "timestamp": 1527677559105,
     "user": {
      "displayName": "Lukas Dippold",
      "photoUrl": "https://lh3.googleusercontent.com/a/default-user=s128",
      "userId": "108142376233993843599"
     },
     "user_tz": -120
    },
    "id": "wjSch0vSk3St",
    "outputId": "7359b6ac-e601-4160-db19-3c7c79e8ac3b"
   },
   "outputs": [
    {
     "data": {
      "image/png": "[encoded data removed]",
      "text/plain": [
       "<matplotlib.figure.Figure at 0x116bf9198>"
      ]
     },
     "metadata": {},
     "output_type": "display_data"
    },
    {
     "name": "stdout",
     "output_type": "stream",
     "text": [
      "The mean reaction time for up responses is 3.45 seconds.\n"
     ]
    },
    {
     "data": {
      "image/png": "[encoded data removed]",
      "text/plain": [
       "<matplotlib.figure.Figure at 0x116d5ce10>"
      ]
     },
     "metadata": {},
     "output_type": "display_data"
    },
    {
     "name": "stdout",
     "output_type": "stream",
     "text": [
      "The mean reaction time for down responses is 3.37 seconds.\n"
     ]
    }
   ],
   "source": [
    "end_times_up = end_times[results == 1]\n",
    "plt.hist(end_times_up, 50)\n",
    "plt.title(\"Reaction times for up responses\")\n",
    "plt.xlabel(\"reaction time [s]\")\n",
    "plt.ylabel(\"occurrences per bin\")\n",
    "mean_up_time = round(np.mean(end_times_up)*100)/100\n",
    "plt.axvline(mean_up_time,color='red')\n",
    "plt.show()\n",
    "print(\"The mean reaction time for up responses is \" + str(mean_up_time) + \" seconds.\")\n",
    "\n",
    "end_times_down = end_times[results == -1]\n",
    "plt.hist(end_times_down, 50)\n",
    "plt.title(\"Reaction times for down responses\")\n",
    "plt.xlabel(\"reaction time [s]\")\n",
    "plt.ylabel(\"occurrences per bin\")\n",
    "mean_down_time = round(np.mean(end_times_down)*100)/100\n",
    "plt.axvline(mean_down_time,color='red')\n",
    "plt.show()\n",
    "print(\"The mean reaction time for down responses is \" + str(mean_down_time) + \" seconds.\")"
   ]
  },
  {
   "cell_type": "markdown",
   "metadata": {
    "colab_type": "text",
    "id": "Tmy1gjhRk3Sy"
   },
   "source": [
    "It makes sense that both reaction times histograms have a similar shape and mean.\n",
    "The means are quite high. we would expect a lower reaction time for both. over 3 seconds in the mean seem long for modeling behaviour. "
   ]
  },
  {
   "cell_type": "markdown",
   "metadata": {
    "colab_type": "text",
    "id": "idcIiZDYk3S0"
   },
   "source": [
    "##### (5)"
   ]
  },
  {
   "cell_type": "markdown",
   "metadata": {
    "colab_type": "text",
    "id": "eiQhozQ8k3S1"
   },
   "source": [
    "for the random dot motion task in the lecture we have a mean reaction time of around 800 ms for a 70 % \"up\"-rate.\n",
    "so we aim for accuracy of 70 % up and a reaction time of around 800 ms to fit our results with the experimental results with humans. We did that by trying several $m_\\mu$ and $s_\\mu$ values. a good fit we found is shown below"
   ]
  },
  {
   "cell_type": "code",
   "execution_count": 11,
   "metadata": {
    "ExecuteTime": {
     "end_time": "2018-05-30T12:50:43.794213Z",
     "start_time": "2018-05-30T12:50:43.754327Z"
    },
    "colab": {
     "autoexec": {
      "startup": false,
      "wait_interval": 0
     }
    },
    "colab_type": "code",
    "collapsed": true,
    "id": "q70i6YBqk3S3"
   },
   "outputs": [],
   "source": [
    "# Initialization\n",
    "X_0 = 0\n",
    "sigma = 0.5\n",
    "a = [1, -1]\n",
    "dt = 0.01\n",
    "t_max = 10\n",
    "ts = np.arange(0, t_max + dt, dt)\n",
    "no_trials = 2000\n",
    "\n",
    "def ffunc(x, t):\n",
    "    return np.random.normal(m_, s_)\n",
    "\n",
    "def gfunc(x, t):\n",
    "    return sigma\n",
    "\n",
    "m_values = np.arange(-0.1, 0.5, 0.1)\n",
    "s_values = np.arange(0, 1, 0.1)\n",
    "\n",
    "mu_values = np.zeros([3, len(m_values)*len(s_values)])\n",
    "\n",
    "k = 0\n",
    "for m_ in m_values:\n",
    "    for s_ in s_values:\n",
    "        mu_values[0, k] = m_\n",
    "        mu_values[1, k] = s_\n",
    "        k = k + 1"
   ]
  },
  {
   "cell_type": "code",
   "execution_count": 12,
   "metadata": {
    "ExecuteTime": {
     "end_time": "2018-05-30T12:50:47.389987Z",
     "start_time": "2018-05-30T12:50:43.796891Z"
    },
    "colab": {
     "autoexec": {
      "startup": false,
      "wait_interval": 0
     },
     "base_uri": "https://localhost:8080/",
     "height": 804
    },
    "colab_type": "code",
    "executionInfo": {
     "elapsed": 2752,
     "status": "ok",
     "timestamp": 1527680551579,
     "user": {
      "displayName": "Lukas Dippold",
      "photoUrl": "https://lh3.googleusercontent.com/a/default-user=s128",
      "userId": "108142376233993843599"
     },
     "user_tz": -120
    },
    "id": "wB3U8r_Lk3S5",
    "outputId": "335a8d3d-6549-4cfc-9311-5c792ef24c8b"
   },
   "outputs": [
    {
     "name": "stdout",
     "output_type": "stream",
     "text": [
      "up-rate:  0.698\n",
      "\n",
      "The mean reaction time for up responses is 0.8 seconds.\n"
     ]
    },
    {
     "data": {
      "image/png": "[encoded data removed]",
      "text/plain": [
       "<matplotlib.figure.Figure at 0x116ec72e8>"
      ]
     },
     "metadata": {},
     "output_type": "display_data"
    },
    {
     "name": "stdout",
     "output_type": "stream",
     "text": [
      "The mean reaction time for down responses is 0.85 seconds.\n"
     ]
    },
    {
     "data": {
      "image/png": "[encoded data removed]",
      "text/plain": [
       "<matplotlib.figure.Figure at 0x116c4d668>"
      ]
     },
     "metadata": {},
     "output_type": "display_data"
    }
   ],
   "source": [
    "end_times = np.zeros(no_trials)\n",
    "results = np.zeros(no_trials)\n",
    "\n",
    "m_= 0.51\n",
    "s_= 10.34\n",
    "\n",
    "for i in range(no_trials):\n",
    "    _, end_times[i], results[i] = euler_maruyama(ffunc, gfunc, X_0, ts, dt, a)\n",
    "\n",
    "\n",
    "\n",
    "end_times_up = end_times[results == 1]\n",
    "mean_up_time = round(np.mean(end_times_up)*100)/100\n",
    "\n",
    "end_times_down = end_times[results == -1]\n",
    "mean_down_time = round(np.mean(end_times_down)*100)/100\n",
    "\n",
    "urate = len(end_times_up)/ (len(end_times_up)+len(end_times_down))\n",
    "print(\"up-rate: \",urate)\n",
    "\n",
    "print(\"\\nThe mean reaction time for up responses is \" + str(mean_up_time) + \" seconds.\")\n",
    "\n",
    "plt.hist(end_times_up, 50)\n",
    "plt.title(\"Reaction times for up responses\")\n",
    "plt.xlabel(\"reaction time [s]\")\n",
    "plt.ylabel(\"occurrences per bin\")\n",
    "plt.axvline(mean_up_time,color='red')\n",
    "plt.show()\n",
    "\n",
    "\n",
    "print(\"The mean reaction time for down responses is \" + str(mean_down_time) + \" seconds.\")\n",
    "\n",
    "plt.hist(end_times_down, 50)\n",
    "plt.title(\"Reaction times for down responses\")\n",
    "plt.xlabel(\"reaction time [s]\")\n",
    "plt.ylabel(\"occurrences per bin\")\n",
    "plt.axvline(mean_down_time,color='red')\n",
    "plt.show()\n"
   ]
  },
  {
   "cell_type": "markdown",
   "metadata": {
    "colab_type": "text",
    "id": "yAWW2q3025D1"
   },
   "source": [
    "With a values $m_\\mu = 0.51$ and $s_\\mu = 10.31$ we can fit the experimental results quite good."
   ]
  }
 ],
 "metadata": {
  "colab": {
   "collapsed_sections": [],
   "default_view": {},
   "name": "MHBF_PT_5_Dippold_deMan.ipynb",
   "provenance": [],
   "version": "0.3.2",
   "views": {}
  },
  "kernelspec": {
   "display_name": "Python 3",
   "language": "python",
   "name": "python3"
  },
  "language_info": {
   "codemirror_mode": {
    "name": "ipython",
    "version": 3
   },
   "file_extension": ".py",
   "mimetype": "text/x-python",
   "name": "python",
   "nbconvert_exporter": "python",
   "pygments_lexer": "ipython3",
   "version": "3.6.4"
  }
 },
 "nbformat": 4,
 "nbformat_minor": 1
}
