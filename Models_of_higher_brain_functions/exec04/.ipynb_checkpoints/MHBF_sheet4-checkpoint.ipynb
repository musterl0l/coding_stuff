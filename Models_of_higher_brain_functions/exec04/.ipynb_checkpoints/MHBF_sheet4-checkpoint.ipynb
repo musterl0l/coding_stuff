{
 "cells": [
  {
   "cell_type": "code",
   "execution_count": 1,
   "metadata": {},
   "outputs": [],
   "source": [
    "import numpy as np\n",
    "import matplotlib.pyplot as plt\n",
    "import math\n",
    "from scipy import integrate, arange"
   ]
  },
  {
   "cell_type": "markdown",
   "metadata": {},
   "source": [
    "# 1 write function laing_chow"
   ]
  },
  {
   "cell_type": "code",
   "execution_count": 10,
   "metadata": {},
   "outputs": [],
   "source": [
    "def func(x):\n",
    "    if x >= 0:\n",
    "        return 1\n",
    "    else:\n",
    "        return 0\n",
    "\n",
    "def laing_chow(x0,t,I1,I2):\n",
    "    alpha = 0.2\n",
    "    beta = 0.4\n",
    "    sigma = 0.4\n",
    "    tau = 20\n",
    "    g1 = 1.\n",
    "    g2 = 1.\n",
    "\n",
    "    u1 = x0[0]\n",
    "    a1 = x0[1]\n",
    "    u2 = x0[2]\n",
    "    a2 = x0[3]\n",
    "    \n",
    "    du1 = -u1 + func(alpha*u1*g1 - beta*u2*g2 - a1 + I1)\n",
    "    du2 = -u2 + func(alpha*u2*g2 - beta*u1*g1 - a2 + I2)\n",
    "    \n",
    "    da1 = 1/tau*(-a1 + sigma*func(alpha*u1*g1 - beta*u2*g2 - a1 + I1))\n",
    "    da2 = 1/tau*(-a2 + sigma*func(alpha*u2*g2 - beta*u1*g1 - a2 + I2))\n",
    "    \n",
    "    return du1, du2, da1, da2 "
   ]
  },
  {
   "cell_type": "code",
   "execution_count": 12,
   "metadata": {},
   "outputs": [
    {
     "name": "stderr",
     "output_type": "stream",
     "text": [
      "/home/lu/anaconda3/lib/python3.6/site-packages/scipy/integrate/odepack.py:218: ODEintWarning: Excess work done on this call (perhaps wrong Dfun type). Run with full_output = 1 to get quantitative information.\n",
      "  warnings.warn(warning_msg, ODEintWarning)\n"
     ]
    },
    {
     "data": {
      "text/plain": [
       "(5000, 4)"
      ]
     },
     "execution_count": 12,
     "metadata": {},
     "output_type": "execute_result"
    }
   ],
   "source": [
    "#  x0 contains: u1 = 1, a1 = 0.1 u2 = 0, a2 = 0.25\n",
    "x0 = np.array([1., 0.1, 0., 0.25])\n",
    "t = np.arange(0,500,0.1)\n",
    "\n",
    "\n",
    "\n",
    "I1 = 0.43\n",
    "I2 = 0.5\n",
    "\n",
    "integrate.odeint(laing_chow, x0, t, args=(I1,I2)).shape"
   ]
  },
  {
   "cell_type": "markdown",
   "metadata": {},
   "source": [
    "# 2 determine dominance"
   ]
  },
  {
   "cell_type": "code",
   "execution_count": 44,
   "metadata": {},
   "outputs": [],
   "source": [
    "def dominance_durations(x1,x2,t):\n",
    "    buf = np.zeros(t.shape)\n",
    "    buf = x1 > x2\n",
    "    durations = []\n",
    "    \n",
    "    start = t[0]\n",
    "    end = t[0]\n",
    "    for i in range(t.shape[0]): \n",
    "        if buf[i] == buf[i-1]:    #that means we have dominance continuing\n",
    "            end = t[i]\n",
    "        \n",
    "        else:\n",
    "            end = t[i]\n",
    "            print(end)\n",
    "            durations.append(end-start)\n",
    "            start = t[i]\n",
    "            \n",
    "\n",
    "    return durations"
   ]
  },
  {
   "cell_type": "markdown",
   "metadata": {},
   "source": [
    "Why are the dominance durations different from the analytical T 1 (eq. 9) in the paper?\n",
    "- ..."
   ]
  },
  {
   "cell_type": "code",
   "execution_count": 49,
   "metadata": {},
   "outputs": [
    {
     "name": "stdout",
     "output_type": "stream",
     "text": [
      "0\n",
      "2\n",
      "3\n",
      "7\n",
      "8\n",
      "9\n"
     ]
    },
    {
     "data": {
      "text/plain": [
       "[0, 2, 1, 4, 1, 1]"
      ]
     },
     "execution_count": 49,
     "metadata": {},
     "output_type": "execute_result"
    }
   ],
   "source": [
    "x1 = np.random.rand(10)\n",
    "x2 = np.random.rand(10)\n",
    "t = np.arange(10)\n",
    "\n",
    "dominance_durations(x1,x2,t)"
   ]
  },
  {
   "cell_type": "code",
   "execution_count": null,
   "metadata": {},
   "outputs": [],
   "source": []
  }
 ],
 "metadata": {
  "kernelspec": {
   "display_name": "Python 3",
   "language": "python",
   "name": "python3"
  },
  "language_info": {
   "codemirror_mode": {
    "name": "ipython",
    "version": 3
   },
   "file_extension": ".py",
   "mimetype": "text/x-python",
   "name": "python",
   "nbconvert_exporter": "python",
   "pygments_lexer": "ipython3",
   "version": "3.6.4"
  }
 },
 "nbformat": 4,
 "nbformat_minor": 2
}
