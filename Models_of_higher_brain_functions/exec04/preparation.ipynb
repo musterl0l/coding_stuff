{
 "cells": [
  {
   "cell_type": "code",
   "execution_count": 2,
   "metadata": {},
   "outputs": [],
   "source": [
    "import numpy as np\n",
    "import matplotlib.pyplot as plt\n",
    "import math\n",
    "from scipy import integrate, arange"
   ]
  },
  {
   "cell_type": "code",
   "execution_count": 2,
   "metadata": {},
   "outputs": [],
   "source": [
    "def f_a(x,t):\n",
    "    return -x"
   ]
  },
  {
   "cell_type": "code",
   "execution_count": 3,
   "metadata": {},
   "outputs": [],
   "source": [
    "def f_b(x,t): \n",
    "    return 1.0/x"
   ]
  },
  {
   "cell_type": "code",
   "execution_count": null,
   "metadata": {},
   "outputs": [],
   "source": []
  },
  {
   "cell_type": "code",
   "execution_count": 4,
   "metadata": {},
   "outputs": [],
   "source": [
    "def f_d(x,t):\n",
    "    return x*(1.0-x)\n",
    "    #A = np.arange([[-1,0][1,1]])\n",
    "    #return A @ x"
   ]
  },
  {
   "cell_type": "code",
   "execution_count": 5,
   "metadata": {},
   "outputs": [],
   "source": [
    "def euler_student(f_func,x_0,t, dt=0.01 ):\n",
    "    # 'f_func' should be a callable f(x,t)\n",
    "    # 'x_0' initial condition x(t_0)\n",
    "    # 't' A sequence of time points for which to solve y. \n",
    "    # the initial value point should be the first element of this sequence\n",
    "    \n",
    "    X = np.zeros(t.shape)\n",
    "    X[0] = x_0\n",
    "    for ti in np.arange(1,X.size):\n",
    "        X[ti] = X[ti-1] + f_func(X[ti-1],ti) * dt\n",
    "    return X"
   ]
  },
  {
   "cell_type": "code",
   "execution_count": 7,
   "metadata": {},
   "outputs": [],
   "source": [
    "ts_a = np.linspace(-4,4,50)\n",
    "\n",
    "xs_a = euler_student(f_a,1.,ts_a)"
   ]
  },
  {
   "cell_type": "code",
   "execution_count": 11,
   "metadata": {},
   "outputs": [],
   "source": [
    "def euler_c (f_func,x_0,t):\n",
    "    X = np.zeros((len(t),len(x_0)))\n",
    "    X[0,:] = x_0\n",
    "    np.diff(t)\n",
    "    \n",
    "    for i,time in enumerate(t[1:]):\n",
    "        X[i+1,:] = X[i,:] + f_func(X[i,:],t[i]) * dt[i]\n",
    "        "
   ]
  },
  {
   "cell_type": "code",
   "execution_count": 12,
   "metadata": {},
   "outputs": [],
   "source": [
    "#euler method as a function of the function f(x,t), initial condition x_0\n",
    "def euler_easy (f_func,x_0,t_max,dt):\n",
    "    x = x_0\n",
    "    \n",
    "    for t in np.arange(0,t_max,dt):\n",
    "        \n",
    "        x = x + f_func(x,t)*dt\n",
    "        \n",
    "    return x"
   ]
  },
  {
   "cell_type": "code",
   "execution_count": 17,
   "metadata": {},
   "outputs": [],
   "source": [
    "ts_d = np.linspace(-4,4,50)\n",
    "xs_d_an = np.exp(ts_d) / (1+np.exp(ts_d)) #analytical values\n",
    "xs_d_rk = integrate.odeint(f_a ,np.array([0.5]), ts_d)[:,0] #values of "
   ]
  },
  {
   "cell_type": "code",
   "execution_count": null,
   "metadata": {},
   "outputs": [],
   "source": []
  },
  {
   "cell_type": "code",
   "execution_count": 18,
   "metadata": {},
   "outputs": [
    {
     "data": {
      "text/plain": [
       "[<matplotlib.lines.Line2D at 0x7ff38c79d588>]"
      ]
     },
     "execution_count": 18,
     "metadata": {},
     "output_type": "execute_result"
    },
    {
     "data": {
      "image/png": "[encoded data removed]",
      "text/plain": [
       "<matplotlib.figure.Figure at 0x7ff38c859198>"
      ]
     },
     "metadata": {},
     "output_type": "display_data"
    }
   ],
   "source": [
    "ts_d = np.linspace(-4,4,50)\n",
    "xs_d = [euler_easy(f_d,0.5,t,np.sign(t)*0.01) for t in ts_d]\n",
    "\n",
    "plt.plot(xs_d)\n",
    "plt.plot(xs_d_rk)"
   ]
  },
  {
   "cell_type": "code",
   "execution_count": 5,
   "metadata": {},
   "outputs": [],
   "source": [
    "def dominance_durations(x1,x2,t):\n",
    "    buf = np.zeros(t.shape)\n",
    "    buf = x1 > x2\n",
    "    durations = []\n",
    "    \n",
    "    start = t[0]\n",
    "    end = t[0]\n",
    "    for i in range(1,t.shape[0]): \n",
    "        if buf[i] == buf[i-1]:    #that means we have dominance continuing\n",
    "            end = t[i]\n",
    "        \n",
    "        else:\n",
    "            end = t[i]\n",
    "            #print(end)\n",
    "            durations.append(end-start)\n",
    "            start = t[i]\n",
    "            \n",
    "\n",
    "    return durations"
   ]
  },
  {
   "cell_type": "code",
   "execution_count": 6,
   "metadata": {},
   "outputs": [
    {
     "data": {
      "text/plain": [
       "[2, 7]"
      ]
     },
     "execution_count": 6,
     "metadata": {},
     "output_type": "execute_result"
    }
   ],
   "source": [
    "\n",
    "x1 = np.random.rand(10)\n",
    "x2 = np.random.rand(10)\n",
    "t = np.arange(10)\n",
    "\n",
    "dominance_durations(x1,x2,t)"
   ]
  },
  {
   "cell_type": "code",
   "execution_count": null,
   "metadata": {},
   "outputs": [],
   "source": []
  }
 ],
 "metadata": {
  "kernelspec": {
   "display_name": "Python 3",
   "language": "python",
   "name": "python3"
  },
  "language_info": {
   "codemirror_mode": {
    "name": "ipython",
    "version": 3
   },
   "file_extension": ".py",
   "mimetype": "text/x-python",
   "name": "python",
   "nbconvert_exporter": "python",
   "pygments_lexer": "ipython3",
   "version": "3.6.4"
  }
 },
 "nbformat": 4,
 "nbformat_minor": 2
}
