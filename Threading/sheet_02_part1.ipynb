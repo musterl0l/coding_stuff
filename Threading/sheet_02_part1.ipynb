{
 "cells": [
  {
   "cell_type": "markdown",
   "metadata": {},
   "source": [
    "# Message Sequencer"
   ]
  },
  {
   "cell_type": "code",
   "execution_count": 1,
   "metadata": {},
   "outputs": [],
   "source": [
    "import threading\n",
    "import time\n",
    "import queue\n",
    "import random"
   ]
  },
  {
   "cell_type": "code",
   "execution_count": 2,
   "metadata": {},
   "outputs": [],
   "source": [
    "#internal message format: tuple (<payload>,<threadID>)\n",
    "#msg generator sends only int values"
   ]
  },
  {
   "cell_type": "code",
   "execution_count": 3,
   "metadata": {},
   "outputs": [],
   "source": [
    "class normalFred(threading.Thread): \n",
    "    def __init__(self, iD):\n",
    "        threading.Thread.__init__(self)\n",
    "        self.iD = iD\n",
    "        self.q = queue.Queue() #inbox queue\n",
    "        self.history = []\n",
    "        \n",
    "    def run(self):\n",
    "        while (thread_control ==1):\n",
    "            if (not self.q.empty()):\n",
    "                #there is a msg in the inbox\n",
    "                m = self.q.get()\n",
    "                #check if msg is external \n",
    "                if (type(m) == int):\n",
    "                    #external msg -> send to msg sequencer in msg format\n",
    "                    seq_inbox.put((m,self.iD))\n",
    "                else:\n",
    "                    #msg comes from sequencer -> add to history\n",
    "                    self.history.append(m)\n",
    "        #write logfile\n",
    "        f = open ('logfile_thread_'+str(self.iD), 'w')\n",
    "        i=0\n",
    "        for entry in self.history:\n",
    "            f.write('message '+str(i)+': '+str(entry[0])+' thread ID: '+str(entry[1])+'\\n')\n",
    "            i+=1\n",
    "        f.close()"
   ]
  },
  {
   "cell_type": "code",
   "execution_count": 4,
   "metadata": {},
   "outputs": [],
   "source": [
    "class seqFred(threading.Thread): \n",
    "    def __init__(self):\n",
    "        threading.Thread.__init__(self)\n",
    "        \n",
    "    def run(self):\n",
    "        while (thread_control ==1):\n",
    "            if not seq_inbox.empty():\n",
    "                #there is a msg in the sequencer inbox\n",
    "                m = seq_inbox.get()\n",
    "                #broadcast msg to all threads\n",
    "                for t in threads:\n",
    "                    t.q.put(m)\n",
    "                "
   ]
  },
  {
   "cell_type": "code",
   "execution_count": 5,
   "metadata": {},
   "outputs": [],
   "source": [
    "# message generator n = number of external msgs & random send to thread in list t\n",
    "def generateMsg(n, t):\n",
    "    for i in range(n):\n",
    "        x = random.randint(0,9999)\n",
    "        #send to random thread in list t\n",
    "        t[random.randint(0,len(t)-1)].q.put(x)"
   ]
  },
  {
   "cell_type": "code",
   "execution_count": 6,
   "metadata": {},
   "outputs": [],
   "source": [
    "#run variable für threads falls !=1 werden alle threads beendet\n",
    "thread_control = 1                \n",
    "# the sequencer inbox where all threads can send their internal msgs\n",
    "seq_inbox = queue.Queue()\n",
    "#Python queue muss thread save sein... \n",
    "\n",
    "#thread list containing all threads\n",
    "threads = []"
   ]
  },
  {
   "cell_type": "code",
   "execution_count": 7,
   "metadata": {},
   "outputs": [
    {
     "name": "stdout",
     "output_type": "stream",
     "text": [
      "Bitte anzahl der erwuenschten Threads eingeben3\n",
      "Bitte Anzahl der externen Nachrichten angeben3\n"
     ]
    }
   ],
   "source": [
    "anzahl_threads = eval(input(\"Bitte anzahl der erwuenschten Threads eingeben\"))\n",
    "number_msg = eval(input(\"Bitte Anzahl der externen Nachrichten angeben\"))\n",
    "\n",
    "#open and start n threads\n",
    "for i in range (0, anzahl_threads):\n",
    "    t = normalFred(i)\n",
    "    t.start()\n",
    "    threads.append(t)  \n",
    "    \n",
    "#open and start seqencer\n",
    "sequencer = seqFred()\n",
    "sequencer.start()\n",
    "\n",
    "#generate m random msgs\n",
    "generateMsg(number_msg, threads)\n"
   ]
  },
  {
   "cell_type": "code",
   "execution_count": 8,
   "metadata": {},
   "outputs": [],
   "source": [
    "#check every second history of last thread if all msgs were computed\n",
    "while(len(threads[anzahl_threads-1].history) < number_msg):\n",
    "    time.sleep(1)\n",
    "    \n",
    "#execute to stop threads\n",
    "thread_control = 0"
   ]
  },
  {
   "cell_type": "code",
   "execution_count": null,
   "metadata": {},
   "outputs": [],
   "source": []
  },
  {
   "cell_type": "code",
   "execution_count": null,
   "metadata": {},
   "outputs": [],
   "source": []
  },
  {
   "cell_type": "code",
   "execution_count": null,
   "metadata": {},
   "outputs": [],
   "source": []
  }
 ],
 "metadata": {
  "kernelspec": {
   "display_name": "Python 3",
   "language": "python",
   "name": "python3"
  },
  "language_info": {
   "codemirror_mode": {
    "name": "ipython",
    "version": 3
   },
   "file_extension": ".py",
   "mimetype": "text/x-python",
   "name": "python",
   "nbconvert_exporter": "python",
   "pygments_lexer": "ipython3",
   "version": "3.6.4"
  }
 },
 "nbformat": 4,
 "nbformat_minor": 2
}
