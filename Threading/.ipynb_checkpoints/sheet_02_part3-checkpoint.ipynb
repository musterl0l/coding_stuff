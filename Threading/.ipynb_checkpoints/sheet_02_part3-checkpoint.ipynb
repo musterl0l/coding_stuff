{
 "cells": [
  {
   "cell_type": "markdown",
   "metadata": {},
   "source": [
    "# Vector Clock\n",
    "- every process has a vector with the states of every process\n",
    "- that vector is added to every msg\n",
    "- partial order, not every two events can be ordered\n",
    "- history... ??\n",
    "- advantages / disadvantages of Lamport Timestamps & Vecotor clocks ... ??"
   ]
  },
  {
   "cell_type": "markdown",
   "metadata": {},
   "source": [
    "changes for vecotor clocks: \n",
    "- every thread needs to know the total number of threads \n",
    "- clock update is now an array maximum comparison\n",
    "- sorting just with sum of the vector ?? "
   ]
  },
  {
   "cell_type": "code",
   "execution_count": 8,
   "metadata": {},
   "outputs": [],
   "source": [
    "import threading\n",
    "import time\n",
    "import queue\n",
    "import random\n",
    "import numpy as np"
   ]
  },
  {
   "cell_type": "code",
   "execution_count": 9,
   "metadata": {},
   "outputs": [],
   "source": [
    "#internal message format: tuple (<payload>,<counter>,<threadID>)\n",
    "#msg generator sends only int values"
   ]
  },
  {
   "cell_type": "code",
   "execution_count": 10,
   "metadata": {},
   "outputs": [],
   "source": [
    "class normalFred(threading.Thread): \n",
    "    def __init__(self, iD, threadQ):\n",
    "        threading.Thread.__init__(self)\n",
    "        self.iD = iD\n",
    "        self.q = queue.Queue() #inbox queue\n",
    "        self.history = []\n",
    "        self.clock = np.zeros(threadQ)\n",
    "        \n",
    "    def run(self):\n",
    "        while (thread_control ==1):\n",
    "            if (not self.q.empty()):\n",
    "                #there is a msg in the inbox\n",
    "                m = self.q.get()\n",
    "                #check if msg is external \n",
    "                if (type(m) == int):\n",
    "                    #increase clock because new event\n",
    "                    self.clock[self.iD] += 1\n",
    "                    self.history.append((m,self.clock,self.iD))\n",
    "                    #external msg -> send to every other thread\n",
    "                    for t in threads:\n",
    "                        if not t.iD == self.iD:\n",
    "                            t.q.put((m,self.clock,self.iD))\n",
    "                else:\n",
    "                    #update clock\n",
    "                    self.clock = np.maximum(self.clock,m[1])\n",
    "                    #msg comes from broadcasting thread-> add to history\n",
    "                    self.history.append((m[0],self.clock,m[2]))\n",
    "        #sort the history vector sum()\n",
    "        self.history = sorted(self.history, key=lambda x: x[1].sum())\n",
    "        #write logfile\n",
    "        f = open ('logfile_thread_'+str(self.iD), 'w')\n",
    "        i=0\n",
    "        for entry in self.history:\n",
    "            f.write('message '+str(i)+': '+str(entry[0])+' counter: '+str(entry[1])+' thread ID: '+str(entry[2])+'\\n')\n",
    "            i+=1\n",
    "        f.close()"
   ]
  },
  {
   "cell_type": "code",
   "execution_count": 11,
   "metadata": {},
   "outputs": [],
   "source": [
    "# message generator n = number of external msgs & random send to thread in list t\n",
    "def generateMsg(n, t):\n",
    "    for i in range(n):\n",
    "        x = random.randint(0,9999)\n",
    "        #send to random thread in list t\n",
    "        t[random.randint(0,len(t)-1)].q.put(x)"
   ]
  },
  {
   "cell_type": "code",
   "execution_count": 12,
   "metadata": {},
   "outputs": [],
   "source": [
    "#run variable für threads falls !=1 werden alle threads beendet\n",
    "thread_control = 1                \n",
    "\n",
    "#thread list containing all threads\n",
    "threads = []"
   ]
  },
  {
   "cell_type": "code",
   "execution_count": 13,
   "metadata": {},
   "outputs": [
    {
     "name": "stdout",
     "output_type": "stream",
     "text": [
      "Bitte anzahl der erwuenschten Threads eingeben3\n",
      "Bitte Anzahl der externen Nachrichten angeben20\n"
     ]
    }
   ],
   "source": [
    "anzahl_threads = eval(input(\"Bitte anzahl der erwuenschten Threads eingeben\"))\n",
    "number_msg = eval(input(\"Bitte Anzahl der externen Nachrichten angeben\"))\n",
    "\n",
    "#open and start n threads\n",
    "for i in range (0, anzahl_threads):\n",
    "    t = normalFred(i,anzahl_threads)\n",
    "    t.start()\n",
    "    threads.append(t)  \n",
    "\n",
    "#generate m random msgs\n",
    "generateMsg(number_msg, threads)\n"
   ]
  },
  {
   "cell_type": "code",
   "execution_count": 14,
   "metadata": {},
   "outputs": [],
   "source": [
    "#check every second history of last thread if all msgs were computed\n",
    "while(len(threads[anzahl_threads-1].history) < number_msg):\n",
    "    time.sleep(1)\n",
    "\n",
    "#execute to stop threads\n",
    "thread_control = 0"
   ]
  },
  {
   "cell_type": "code",
   "execution_count": null,
   "metadata": {},
   "outputs": [],
   "source": []
  },
  {
   "cell_type": "code",
   "execution_count": null,
   "metadata": {},
   "outputs": [],
   "source": []
  }
 ],
 "metadata": {
  "kernelspec": {
   "display_name": "Python 3",
   "language": "python",
   "name": "python3"
  },
  "language_info": {
   "codemirror_mode": {
    "name": "ipython",
    "version": 3
   },
   "file_extension": ".py",
   "mimetype": "text/x-python",
   "name": "python",
   "nbconvert_exporter": "python",
   "pygments_lexer": "ipython3",
   "version": "3.6.4"
  }
 },
 "nbformat": 4,
 "nbformat_minor": 2
}
