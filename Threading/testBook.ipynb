{
 "cells": [
  {
   "cell_type": "markdown",
   "metadata": {},
   "source": [
    "Thread: Ausführungspfad für Programme\n",
    "T1 - main\n",
    "T2 - GUI\n",
    "-> Mehrkernprozessor kann T1 einen Kern geben und T2 einen anderen - parallel processing\n"
   ]
  },
  {
   "cell_type": "code",
   "execution_count": 1,
   "metadata": {},
   "outputs": [],
   "source": [
    "import threading\n",
    "import time\n",
    "import queue\n"
   ]
  },
  {
   "cell_type": "code",
   "execution_count": 2,
   "metadata": {},
   "outputs": [
    {
     "name": "stdout",
     "output_type": "stream",
     "text": [
      "Starte  1\n",
      "Beende Starte  2\n",
      " 1\n",
      "Beende  2\n"
     ]
    }
   ],
   "source": [
    "#class myFred erbt von threading.Thread\n",
    "class myFred(threading.Thread): \n",
    "    def __init__(self, iD, name):\n",
    "        threading.Thread.__init__(self)\n",
    "        self.iD = iD\n",
    "        self.name = name\n",
    "        \n",
    "    #Methode run: das was der Thread dann ausführen soll\n",
    "    #wenn wir aus der run Methode rausgehen, dann ist der Thread weg\n",
    "    def run(self):\n",
    "        lockMe.acquire() #print daruter wird erst ausgegeben, wenn lockMe wieder losgelassen wird\n",
    "        print(\"Starte \", self.iD)\n",
    "        time.sleep(self.iD*3) #thread sleeps for 7 sec\n",
    "        lockMe.release()\n",
    "        print(\"Beende \",self.iD)\n",
    "        \n",
    "lockMe = threading.Lock()        \n",
    "\n",
    "t1 = myFred(1,\"t1\")\n",
    "t2 = myFred(2,\"t2\")\n",
    "\n",
    "t1.start() #use start method for internal processing\n",
    "t2.start()\n",
    "t1.join() #warten bis t1 aus run methode returnt, erst dann läuft mainthread (=python programm) weider\n"
   ]
  },
  {
   "cell_type": "code",
   "execution_count": null,
   "metadata": {},
   "outputs": [],
   "source": [
    "#class myFred erbt von threading.Thread\n",
    "class myFred(threading.Thread): \n",
    "    #globale variable für alle myFreds Instanzen -> Threads können\n",
    "    Ergebnis =[0,1]\n",
    "    \n",
    "    def __init__(self, iD, name):\n",
    "        threading.Thread.__init__(self)\n",
    "        self.iD = iD\n",
    "        self.name = name\n",
    "        \n",
    "    #Methode run: das was der Thread dann ausführen soll\n",
    "    #wenn wir aus der run Methode rausgehen, dann ist der Thread weg\n",
    "    def run(self):\n",
    "        i = 0\n",
    "        while i<20:\n",
    "            lockMe.acquire() #print daruter wird erst ausgegeben, wenn lockMe wieder losgelassen wird\n",
    "            zahl = myFred.Ergebnis[len(myFred.Ergebnis)-2] + myFred.Ergebnis[len(myFred.Ergebnis)-1]\n",
    "            myFred.Ergebnis.append(zahl)\n",
    "            lockMe.release()\n",
    "            i = i+1\n",
    "        \n",
    "lockMe = threading.Lock()        \n",
    "\n",
    "t1 = myFred(1,\"t1\")\n",
    "t2 = myFred(2,\"t2\")\n",
    "\n",
    "t1.start() #use start method for internal processing\n",
    "t2.start()\n",
    "t1.join() #warten bis t1 aus run methode returnt, erst dann läuft mainthread (=python programm) weider\n",
    "\n",
    "#alle threads schreiben gleichzeitig in die Liste Ergebnis\n",
    "print(myFred.Ergebnis[25])"
   ]
  },
  {
   "cell_type": "code",
   "execution_count": 3,
   "metadata": {},
   "outputs": [
    {
     "name": "stdout",
     "output_type": "stream",
     "text": [
      "(5, 0)\n"
     ]
    },
    {
     "data": {
      "text/plain": [
       "True"
      ]
     },
     "execution_count": 3,
     "metadata": {},
     "output_type": "execute_result"
    }
   ],
   "source": [
    "q = queue.Queue() #standard FIFO queue\n",
    "\n",
    "q.put((5,0))\n",
    "q.put(2)\n",
    "print(q.get())\n",
    "type(q.get()) == int"
   ]
  },
  {
   "cell_type": "code",
   "execution_count": 1,
   "metadata": {},
   "outputs": [
    {
     "data": {
      "text/plain": [
       "357"
      ]
     },
     "execution_count": 1,
     "metadata": {},
     "output_type": "execute_result"
    }
   ],
   "source": [
    "import random\n",
    "\n",
    "random.randint(0,999)"
   ]
  },
  {
   "cell_type": "code",
   "execution_count": null,
   "metadata": {},
   "outputs": [],
   "source": []
  },
  {
   "cell_type": "code",
   "execution_count": 2,
   "metadata": {},
   "outputs": [
    {
     "name": "stdout",
     "output_type": "stream",
     "text": [
      "[(54, 1, 0), (2828, 0, 1), (1991, 0, 2), (182, 1, 2)]\n",
      "[(2828, 0, 1), (1991, 0, 2), (54, 1, 0), (182, 1, 2)]\n"
     ]
    }
   ],
   "source": [
    "l = [(1991,0,2),(182,1,2),(2828,0,1),(54,1,0)]\n",
    "\n",
    "sortList=sorted(l, key=lambda x: x[2])\n",
    "print(sortList)\n",
    "sortList=sorted(sortList, key=lambda x: x[1])\n",
    "print(sortList)"
   ]
  }
 ],
 "metadata": {
  "kernelspec": {
   "display_name": "Python 3",
   "language": "python",
   "name": "python3"
  },
  "language_info": {
   "codemirror_mode": {
    "name": "ipython",
    "version": 3
   },
   "file_extension": ".py",
   "mimetype": "text/x-python",
   "name": "python",
   "nbconvert_exporter": "python",
   "pygments_lexer": "ipython3",
   "version": "3.6.4"
  }
 },
 "nbformat": 4,
 "nbformat_minor": 2
}
