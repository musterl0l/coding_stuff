{
 "cells": [
  {
   "cell_type": "code",
   "execution_count": 1,
   "metadata": {},
   "outputs": [],
   "source": [
    "import tkinter as tk\n",
    "from tkinter import  ttk\n",
    "\n",
    "import matplotlib\n",
    "matplotlib.use(\"TkAgg\")\n",
    "\n",
    "from matplotlib.backends.backend_tkagg import FigureCanvasTkAgg, NavigationToolbar2TkAgg\n",
    "from matplotlib.figure import Figure"
   ]
  },
  {
   "cell_type": "markdown",
   "metadata": {},
   "source": [
    "\n",
    "# Animated image using a precomputed list of images\n",
    "\n",
    "\n",
    "\n"
   ]
  },
  {
   "cell_type": "code",
   "execution_count": 2,
   "metadata": {},
   "outputs": [],
   "source": [
    "import numpy as np\n",
    "import matplotlib.pyplot as plt\n",
    "import matplotlib.animation as animation\n",
    "\n",
    "fig = plt.figure()\n",
    "\n",
    "\n",
    "def f(x, y):\n",
    "    return np.sin(x) + np.cos(y)\n",
    "\n",
    "x = np.linspace(0, 2 * np.pi, 120)\n",
    "y = np.linspace(0, 2 * np.pi, 100).reshape(-1, 1)\n",
    "# ims is a list of lists, each row is a list of artists to draw in the\n",
    "# current frame; here we are just animating one artist, the image, in\n",
    "# each frame\n",
    "ims = []\n",
    "for i in range(60):\n",
    "    x += np.pi / 15.\n",
    "    y += np.pi / 20.\n",
    "    im = plt.imshow(f(x, y), animated=True)\n",
    "    ims.append([im])\n",
    "\n",
    "ani = animation.ArtistAnimation(fig, ims, interval=50, blit=True,repeat_delay=1000)\n",
    "\n",
    "# To save the animation, use e.g.\n",
    "#\n",
    "# ani.save(\"movie.mp4\")\n",
    "#\n",
    "# or\n",
    "#\n",
    "# from matplotlib.animation import FFMpegWriter\n",
    "# writer = FFMpegWriter(fps=15, metadata=dict(artist='Me'), bitrate=1800)\n",
    "# ani.save(\"movie.mp4\", writer=writer)\n",
    "\n"
   ]
  },
  {
   "cell_type": "code",
   "execution_count": null,
   "metadata": {},
   "outputs": [
    {
     "name": "stderr",
     "output_type": "stream",
     "text": [
      "Exception in Tkinter callback\n",
      "Traceback (most recent call last):\n",
      "  File \"/home/lu/anaconda3/lib/python3.6/site-packages/matplotlib/backends/tkagg.py\", line 22, in blit\n",
      "    id(data), colormode, id(bbox_array))\n",
      "_tkinter.TclError: this isn't a Tk application\n",
      "\n",
      "During handling of the above exception, another exception occurred:\n",
      "\n",
      "Traceback (most recent call last):\n",
      "  File \"/home/lu/anaconda3/lib/python3.6/tkinter/__init__.py\", line 1699, in __call__\n",
      "    return self.func(*args)\n",
      "  File \"/home/lu/anaconda3/lib/python3.6/tkinter/__init__.py\", line 745, in callit\n",
      "    func(*args)\n",
      "  File \"/home/lu/anaconda3/lib/python3.6/site-packages/matplotlib/backends/backend_tkagg.py\", line 95, in _on_timer\n",
      "    TimerBase._on_timer(self)\n",
      "  File \"/home/lu/anaconda3/lib/python3.6/site-packages/matplotlib/backend_bases.py\", line 1383, in _on_timer\n",
      "    ret = func(*args, **kwargs)\n",
      "  File \"/home/lu/anaconda3/lib/python3.6/site-packages/matplotlib/animation.py\", line 1542, in _step\n",
      "    still_going = Animation._step(self, *args)\n",
      "  File \"/home/lu/anaconda3/lib/python3.6/site-packages/matplotlib/animation.py\", line 1277, in _step\n",
      "    self._draw_next_frame(framedata, self._blit)\n",
      "  File \"/home/lu/anaconda3/lib/python3.6/site-packages/matplotlib/animation.py\", line 1297, in _draw_next_frame\n",
      "    self._post_draw(framedata, blit)\n",
      "  File \"/home/lu/anaconda3/lib/python3.6/site-packages/matplotlib/animation.py\", line 1320, in _post_draw\n",
      "    self._blit_draw(self._drawn_artists, self._blit_cache)\n",
      "  File \"/home/lu/anaconda3/lib/python3.6/site-packages/matplotlib/animation.py\", line 1340, in _blit_draw\n",
      "    ax.figure.canvas.blit(ax.bbox)\n",
      "  File \"/home/lu/anaconda3/lib/python3.6/site-packages/matplotlib/backends/backend_tkagg.py\", line 309, in blit\n",
      "    tkagg.blit(self._tkphoto, self.renderer._renderer, bbox=bbox, colormode=2)\n",
      "  File \"/home/lu/anaconda3/lib/python3.6/site-packages/matplotlib/backends/tkagg.py\", line 30, in blit\n",
      "    id(data), colormode, id(bbox_array))\n",
      "_tkinter.TclError: this isn't a Tk application\n"
     ]
    }
   ],
   "source": [
    "root = tk.Tk() #object inside tkinter -> window\n",
    "root.title('Plotting App')\n",
    "root.minsize(width= 600,height=600)\n",
    "#root.maxsize(width=1000,height=900)\n",
    "\n",
    "button = tk.Button(root,text=\"You think this is random?? -> Click Me!\",width=50,height=4)\n",
    "button.pack()\n",
    "\n",
    "#create a graph\n",
    "#f = Figure(figsize=(5,5), dpi = 100)\n",
    "#a = f.add_subplot(111)\n",
    "#a.plot([1,2,3,4,5,6,7,8],[4,5,7,3,1,4,7,3])\n",
    "#normally we would do plt.show()\n",
    "\n",
    "canvas = FigureCanvasTkAgg(fig,root)\n",
    "canvas.show()\n",
    "canvas.get_tk_widget().pack(side=tk.TOP,fill=tk.BOTH,expand = True)\n",
    "\n",
    "toolbar = NavigationToolbar2TkAgg(canvas,root)\n",
    "toolbar.update()\n",
    "canvas._tkcanvas.pack(side=tk.TOP,fill=tk.BOTH,expand = True)\n",
    "\n",
    "root.mainloop()"
   ]
  },
  {
   "cell_type": "code",
   "execution_count": null,
   "metadata": {},
   "outputs": [],
   "source": []
  }
 ],
 "metadata": {
  "kernelspec": {
   "display_name": "Python 3",
   "language": "python",
   "name": "python3"
  },
  "language_info": {
   "codemirror_mode": {
    "name": "ipython",
    "version": 3
   },
   "file_extension": ".py",
   "mimetype": "text/x-python",
   "name": "python",
   "nbconvert_exporter": "python",
   "pygments_lexer": "ipython3",
   "version": "3.6.4"
  }
 },
 "nbformat": 4,
 "nbformat_minor": 1
}
