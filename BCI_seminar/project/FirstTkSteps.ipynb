{
 "cells": [
  {
   "cell_type": "code",
   "execution_count": 1,
   "metadata": {},
   "outputs": [],
   "source": [
    "import tkinter\n",
    "import tkinter.filedialog\n",
    "import tkinter.messagebox\n",
    "\n",
    "from tkinter import *\n"
   ]
  },
  {
   "cell_type": "code",
   "execution_count": 2,
   "metadata": {},
   "outputs": [],
   "source": [
    "def main():\n",
    "    root = Tk() #object inside tkinter -> window\n",
    "    root.title('my first tkinter App')\n",
    "    root.minsize(width= 300,height=300)\n",
    "    #root.maxsize(width=1000,height=900)\n",
    "    \n",
    "    button = Button(root,text=\"Click Me!\",width=30,height=3)\n",
    "    button.pack()\n",
    "    \n",
    "    root.mainloop()\n",
    "    \n",
    "if __name__ == \"__main__\":\n",
    "    main()"
   ]
  },
  {
   "cell_type": "code",
   "execution_count": null,
   "metadata": {},
   "outputs": [],
   "source": []
  },
  {
   "cell_type": "code",
   "execution_count": 6,
   "metadata": {},
   "outputs": [],
   "source": [
    "import tkinter as tk\n",
    "from tkinter import  ttk\n",
    "\n",
    "import matplotlib\n",
    "matplotlib.use(\"TkAgg\")\n",
    "\n",
    "from matplotlib.backends.backend_tkagg import FigureCanvasTkAgg, NavigationToolbar2TkAgg\n",
    "from matplotlib.figure import Figure"
   ]
  },
  {
   "cell_type": "code",
   "execution_count": 7,
   "metadata": {},
   "outputs": [],
   "source": [
    "root = tk.Tk() #object inside tkinter -> window\n",
    "root.title('Plotting App')\n",
    "root.minsize(width= 600,height=600)\n",
    "#root.maxsize(width=1000,height=900)\n",
    "\n",
    "button = tk.Button(root,text=\"You think this is random?? -> Click Me!\",width=50,height=4)\n",
    "button.pack()\n",
    "\n",
    "#create a graph\n",
    "f = Figure(figsize=(5,5), dpi = 100)\n",
    "a = f.add_subplot(111)\n",
    "a.plot([1,2,3,4,5,6,7,8],[4,5,7,3,1,4,7,3])\n",
    "#normally we would do plt.show()\n",
    "\n",
    "canvas = FigureCanvasTkAgg(f,root)\n",
    "canvas.show()\n",
    "canvas.get_tk_widget().pack(side=tk.TOP,fill=tk.BOTH,expand = True)\n",
    "\n",
    "toolbar = NavigationToolbar2TkAgg(canvas,root)\n",
    "toolbar.update()\n",
    "canvas._tkcanvas.pack(side=tk.TOP,fill=tk.BOTH,expand = True)\n",
    "\n",
    "root.mainloop()"
   ]
  },
  {
   "cell_type": "code",
   "execution_count": null,
   "metadata": {},
   "outputs": [],
   "source": []
  },
  {
   "cell_type": "code",
   "execution_count": 5,
   "metadata": {},
   "outputs": [
    {
     "name": "stdout",
     "output_type": "stream",
     "text": [
      "hi there, everyone!\n"
     ]
    }
   ],
   "source": [
    "from tkinter import *\n",
    "\n",
    "class Application(Frame):\n",
    "    def say_hi(self):\n",
    "        print (\"hi there, everyone!\")\n",
    "\n",
    "    def createWidgets(self):\n",
    "        self.QUIT = Button(self)\n",
    "        self.QUIT[\"text\"] = \"QUIT\"\n",
    "        self.QUIT[\"fg\"]   = \"red\"\n",
    "        self.QUIT[\"command\"] =  self.quit\n",
    "\n",
    "        self.QUIT.pack({\"side\": \"left\"})\n",
    "\n",
    "        self.hi_there = Button(self)\n",
    "        self.hi_there[\"text\"] = \"Hello\",\n",
    "        self.hi_there[\"command\"] = self.say_hi\n",
    "\n",
    "        self.hi_there.pack({\"side\": \"left\"})\n",
    "\n",
    "    def __init__(self, master=None):\n",
    "        Frame.__init__(self, master)\n",
    "        self.pack()\n",
    "        self.createWidgets()\n",
    "\n",
    "root = Tk()\n",
    "app = Application(master=root)\n",
    "app.mainloop()\n",
    "root.destroy()"
   ]
  }
 ],
 "metadata": {
  "kernelspec": {
   "display_name": "Python 3",
   "language": "python",
   "name": "python3"
  },
  "language_info": {
   "codemirror_mode": {
    "name": "ipython",
    "version": 3
   },
   "file_extension": ".py",
   "mimetype": "text/x-python",
   "name": "python",
   "nbconvert_exporter": "python",
   "pygments_lexer": "ipython3",
   "version": "3.6.4"
  }
 },
 "nbformat": 4,
 "nbformat_minor": 2
}
