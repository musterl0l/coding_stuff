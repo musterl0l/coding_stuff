{
 "cells": [
  {
   "cell_type": "markdown",
   "metadata": {},
   "source": [
    "# Exercise Sheet 2: Neural Networks 1"
   ]
  },
  {
   "cell_type": "code",
   "execution_count": 1,
   "metadata": {},
   "outputs": [],
   "source": [
    "import numpy as np\n",
    "from matplotlib import pyplot as plt\n",
    "%matplotlib inline\n",
    "\n",
    "def logistic(h,a=1):\n",
    "    return 1/(1+np.exp(-a*h))\n",
    "def dlogistic(h,a=1):\n",
    "    return logistic(h,a)-np.power(logistic(h,a),2)\n",
    "\n",
    "signtrafunc=lambda x: (np.sign(x)+1)/2\n",
    "\n",
    "class neuron:    \n",
    "    \n",
    "    def __init__(self,w,b=0,trafunc=logistic,dtrafunc=dlogistic):\n",
    "        self.w=np.array(w)\n",
    "        self.b=np.array(b)\n",
    "        self.trafunc=trafunc\n",
    "        self.dtrafunc=dtrafunc\n",
    "        \n",
    "    def out(self, x):\n",
    "        return self.trafunc(np.dot(self.w,x)-self.b)    "
   ]
  },
  {
   "cell_type": "markdown",
   "metadata": {},
   "source": [
    "## Task 1: Gradient Descent on a neuron (3 points - programming)\n",
    "Rewrite the neuron class given and include the Gradient Descent training algorithm as a method. To this extent, concentrate on each neuron individually by giving it the delta of the neurons connected to it's ouptut and the corresponding weights as parameters.\n",
    "\n",
    "Also, add the derivative of the transfer function as a method and safe the last input $x$, last output $y$, last activation $h$ and last delta $\\delta$ values as object attributes, whenever they are recalculated.\n",
    "The values of $h$,$x$,$y$ and $o$ are all to be taken as those of the current training data (= their last calculation).\n",
    "\n",
    "The forumla you need is: $\\delta_i = f'(h_i) \\sum_k w_k \\delta_k$, where i is the index of the current neuron and k is the index of the following neurons (connected to it's output). This formulation is needed to be able to use it for the Backpropagation later on. For a single neuron as for the last layer neurons, the delta of the following neuron is replaced by the error graident of the output $\\delta_k=\\left(y-o\\right)$ and the corresponding weight is $w_k=1$ as every output neuron in the model has only one unscaled output.\n",
    "The train function updates the weights by the gradient  descent weight update rule $w(t+1)=w(t)-\\eta\\delta_i(t)\\cdot x(t)$.\n"
   ]
  },
  {
   "cell_type": "code",
   "execution_count": 2,
   "metadata": {},
   "outputs": [],
   "source": [
    "class neuron:    \n",
    "    \n",
    "    def __init__(self,w,b,trafunc=logistic,dtrafunc= dlogistic ):\n",
    "        self.w=np.array(w)\n",
    "        self.b=np.array(b)\n",
    "        self.trafunc=trafunc\n",
    "        self.dtrafunc=dtrafunc\n",
    "    \n",
    "    def out(self, x):\n",
    "        self.lastinput = x\n",
    "        self.lasth = np.dot(self.w,x)-self.b\n",
    "        self.lastout = self.trafunc(self.lasth)  \n",
    "        return self.lastout\n",
    "    \n",
    "    def dout(self, x):\n",
    "        return self.dtrafunc(np.dot(self.w,x)-self.b)\n",
    "    \n",
    "    def delta(self,deltanext,weightsnext):   \n",
    "        self.lastdelta = self.dout(self.lastinput)* np.dot(weightsnext, deltanext)\n",
    "        return self.lastdelta\n",
    "    \n",
    "    def train(self,deltanext,weightsnext,learnrate=0.1):  \n",
    "        li = np.array(self.lastinput)\n",
    "        if(li.ndim > 1):\n",
    "            li = li[:,0]\n",
    "        self.w = self.w - learnrate*self.delta(deltanext, weightsnext)*li\n",
    "        self.b = self.b + (learnrate * self.lastdelta) \n",
    "        return self.lastdelta\n",
    "    \n",
    "        "
   ]
  },
  {
   "cell_type": "markdown",
   "metadata": {},
   "source": [
    "## Task 2: logical functions (2 points - programming)\n",
    "Train a single neuron on the logical functions below for a two-dimensional input $x$. Use instances of the neuron class above to build the equivalents to logical \"or\",\"and\" and \"xor\"-functions and test them for 2-dimensional input vectors *x* resembling all possibilities of combinations ([0,0] [1,0], [0,1], [1,1]). Do 10.000 iterations and plot the evolution of the error (the error over the iteration number). You don't need to implement a stopping criterion.\n",
    "\n",
    "Set the learning rate to $\\eta=1$ and initialize the weight $w$ and the bias $b$ randomly with normal distribution (np.random.randn). Use the logistic function.\n",
    "\n",
    "In the next cell you find an exemplary random number generator and the corresponding functions you can use for sample creation in every single iteration. In every iteration use the random input $x$, the neuron output *$y=$neuron.out($x$)* and the training data $o=yourlogicalfunction(x)$\n",
    "\n",
    "If you haven't succeeded with task 1, you can import Exercise2helperPy36 or Exercise2helperPy27 depending on your python version. The syntax of the conained neuron class is: n1=Exercise2helper.neuron(np.random.randn(2),np.random.randn(1)) for initialization and train(deltanext,weightsnext,learnrate=0.1) for training. For a single neuron as for the last layer neurons, the delta of the following neuron (deltanext) is replaced by the error graident of the output $\\delta_k=\\left(y-o\\right)$ and the corresponding weight is $w_k=1$ as every output neuron in the model has only one unscaled output."
   ]
  },
  {
   "cell_type": "code",
   "execution_count": 3,
   "metadata": {},
   "outputs": [],
   "source": [
    "import Exercise2helper36 as helper\n",
    "\n",
    "#for one single point\n",
    "x=np.random.randint(2,size=2)\n",
    "o=x[0] & x[1]\n"
   ]
  },
  {
   "cell_type": "code",
   "execution_count": 4,
   "metadata": {},
   "outputs": [],
   "source": [
    "#input vektor\n",
    "x_in = np.array([[0,0],[0,1],[1,0],[1,1]])\n",
    "y_or = np.array([0,1,1,1])"
   ]
  },
  {
   "cell_type": "markdown",
   "metadata": {},
   "source": [
    "### a) AND function"
   ]
  },
  {
   "cell_type": "code",
   "execution_count": 5,
   "metadata": {
    "scrolled": true
   },
   "outputs": [
    {
     "data": {
      "text/plain": [
       "array([0.04003919])"
      ]
     },
     "execution_count": 5,
     "metadata": {},
     "output_type": "execute_result"
    }
   ],
   "source": [
    "#initialize\n",
    "\n",
    "n1 = neuron(np.random.randn(2), np.random.randn(1))\n",
    "\n",
    "\n",
    "y = n1.out(x)\n",
    "o=x[0] & x[1]\n",
    "deltanext = y - o\n",
    "weightsnext = 1\n",
    "n1.train(deltanext, weightsnext, learnrate=1.0)"
   ]
  },
  {
   "cell_type": "code",
   "execution_count": 6,
   "metadata": {},
   "outputs": [],
   "source": [
    "it = 10000\n",
    "error = np.zeros(it)\n",
    "\n",
    "for i in range(it):\n",
    "    error[i] = 1/2*np.linalg.norm(deltanext, 2)\n",
    "    x=np.random.randint(2,size=2)\n",
    "    o=x[0] & x[1]\n",
    "    y = n1.out(x)\n",
    "    \n",
    "    deltanext = y - o\n",
    "    weightsnext = 1\n",
    "    n1.train(deltanext, weightsnext, learnrate=1.0)\n"
   ]
  },
  {
   "cell_type": "code",
   "execution_count": 7,
   "metadata": {},
   "outputs": [
    {
     "data": {
      "text/plain": [
       "[<matplotlib.lines.Line2D at 0x7f7d2aec87f0>]"
      ]
     },
     "execution_count": 7,
     "metadata": {},
     "output_type": "execute_result"
    },
    {
     "data": {
      "image/png": "[encoded data removed]",
      "text/plain": [
       "<matplotlib.figure.Figure at 0x7f7d33475470>"
      ]
     },
     "metadata": {},
     "output_type": "display_data"
    }
   ],
   "source": [
    "import matplotlib.pyplot as plt\n",
    "plt.plot(error)\n",
    "#plt.show()"
   ]
  },
  {
   "cell_type": "markdown",
   "metadata": {},
   "source": [
    "### b) OR function"
   ]
  },
  {
   "cell_type": "code",
   "execution_count": 8,
   "metadata": {
    "scrolled": false
   },
   "outputs": [
    {
     "data": {
      "text/plain": [
       "[<matplotlib.lines.Line2D at 0x7f7d2ae5f2b0>]"
      ]
     },
     "execution_count": 8,
     "metadata": {},
     "output_type": "execute_result"
    },
    {
     "data": {
      "image/png": "[encoded data removed]",
      "text/plain": [
       "<matplotlib.figure.Figure at 0x7f7d33454fd0>"
      ]
     },
     "metadata": {},
     "output_type": "display_data"
    }
   ],
   "source": [
    "#initialize\n",
    "n1 = neuron( np.random.randn(2),  np.random.randn(1))\n",
    "\n",
    "\n",
    "y = n1.out(x)\n",
    "o=x[0] | x[1]\n",
    "deltanext = y - o\n",
    "weightsnext = 1\n",
    "n1.train(deltanext, weightsnext, learnrate=1.0)\n",
    "\n",
    "it = 10000\n",
    "error = np.zeros(it)\n",
    "\n",
    "for i in range(it):\n",
    "    error[i] = 1/2*np.linalg.norm(deltanext, 2)\n",
    "    x=np.random.randint(2,size=2)\n",
    "    o=x[0] | x[1]\n",
    "    y = n1.out(x)\n",
    "    \n",
    "    deltanext = y - o\n",
    "    weightsnext = 1\n",
    "    n1.train(deltanext, weightsnext, learnrate=1.0)\n",
    "\n",
    "plt.plot(error)\n",
    "#plt.show()"
   ]
  },
  {
   "cell_type": "markdown",
   "metadata": {},
   "source": [
    "### c) XOR function"
   ]
  },
  {
   "cell_type": "code",
   "execution_count": 9,
   "metadata": {},
   "outputs": [
    {
     "data": {
      "text/plain": [
       "[<matplotlib.lines.Line2D at 0x7f7d2adc42e8>]"
      ]
     },
     "execution_count": 9,
     "metadata": {},
     "output_type": "execute_result"
    },
    {
     "data": {
      "image/png": "[encoded data removed]",
      "text/plain": [
       "<matplotlib.figure.Figure at 0x7f7d2aeafd68>"
      ]
     },
     "metadata": {},
     "output_type": "display_data"
    }
   ],
   "source": [
    "#initialize\n",
    "n1 = neuron( np.random.randn(2),  np.random.randn(1))\n",
    "\n",
    "\n",
    "y = n1.out(x)\n",
    "o=x[0] ^ x[1]\n",
    "deltanext = y - o\n",
    "weightsnext = 1\n",
    "n1.train(deltanext, weightsnext, learnrate=1.0)\n",
    "\n",
    "it = 10000\n",
    "error = np.zeros(it)\n",
    "\n",
    "for i in range(it):\n",
    "    error[i] = 1/2*np.linalg.norm(deltanext, 2)\n",
    "    x=np.random.randint(2,size=2)\n",
    "    o=x[0] ^ x[1]\n",
    "    y = n1.out(x)\n",
    "    \n",
    "    deltanext = y - o\n",
    "    weightsnext = 1\n",
    "    n1.train(deltanext, weightsnext, learnrate=1.0)\n",
    "\n",
    "plt.plot(error)"
   ]
  },
  {
   "cell_type": "markdown",
   "metadata": {},
   "source": [
    "not converging, because XOR function is not possible with one single neuron"
   ]
  },
  {
   "cell_type": "markdown",
   "metadata": {},
   "source": [
    "## Task 3: MLP layer (2 points - programming)\n",
    "Use the class \"neuron\" to construct a neural layer class \"MLPlayer\" for a Multi-Layer Perceptron (MLP).\n",
    "It should contain a list \"MLPlayer.nodes\" which is a list of the single neurons. \n",
    "Also, there should be a method \"MLPlayer.out(x)\" that returns the outputs of the single neurons as a list for the different neurons' current weights and bias of the input vector \"x\". Initialize the weights and the biases of the single neurons randomly with normal distribution by default (np.random.randn()).\n",
    "\n",
    "Include a method \"MLPlayer.train(deltanext,W,learnrate)\" which iterates the training over the nodes by calling their \"train()\" method with the deltas of the nextlayers and the corresponding weights. W is matrix consisiting of the weights of of all neurons in the next layer. It should return the deltas and weight matrix W of the current layer.\n",
    "\n",
    "The number of outputs is equivalent to the number of nodes in the layer and the number of inputs corresponds with the number of weights per neuron. The number of neurons and the number of weights per neuron should be passed to the initialization method."
   ]
  },
  {
   "cell_type": "code",
   "execution_count": 10,
   "metadata": {},
   "outputs": [],
   "source": [
    "class MLPlayer:\n",
    "    \n",
    "    def __init__(self,NodeNo,WeightNo,weightinit=np.random.randn,biasinit=np.random.randn,trafunc=logistic,dtrafunc=dlogistic):\n",
    "        self.NodeNo = NodeNo\n",
    "        self.WeightNo = WeightNo\n",
    "        #weights is a matrix where all the weights for this layer are stored\n",
    "        self.weights = np.zeros((self.NodeNo,self.WeightNo))\n",
    "        \n",
    "        self.neurons = []\n",
    "        for i in range(NodeNo):\n",
    "             self.neurons.append(neuron( weightinit(WeightNo),  biasinit(1), trafunc=trafunc,dtrafunc= dtrafunc))   \n",
    "        \n",
    "    def out(self,x):\n",
    "        returnobj = np.zeros(len(self.neurons))\n",
    "        for n in range(len(self.neurons)):\n",
    "            returnobj[n] = self.neurons[n].out(x)\n",
    "        \n",
    "        return returnobj\n",
    "        \n",
    "        #return [self.neurons[n].out(x) for n in range(len(self.neurons))]\n",
    "    \n",
    "    def train(self,deltanext,W,learnrate=0.1):        \n",
    "        #init the arrays for storing the deltas and the weights of the layer\n",
    "        deltas = np.zeros(self.NodeNo)\n",
    "                \n",
    "        for i in range(self.NodeNo):\n",
    "            #attention W[:,i] -> must be switched now because we dont want all incoming weights from neuron i \n",
    "            #but all weights i that go to every neuron in the next layer\n",
    "            deltas[i] = self.neurons[i].train(deltanext,W[:,i],learnrate= learnrate)\n",
    "            self.weights[i,:] = self.neurons[i].w\n",
    "        return deltas, self.weights"
   ]
  },
  {
   "cell_type": "code",
   "execution_count": 11,
   "metadata": {},
   "outputs": [
    {
     "data": {
      "text/plain": [
       "(array([0.70484064, 0.78265336]), array([[0.62190667, 1.17218413],\n",
       "        [0.68845352, 0.29886704]]))"
      ]
     },
     "execution_count": 11,
     "metadata": {},
     "output_type": "execute_result"
    }
   ],
   "source": [
    "l = MLPlayer(2,2)\n",
    "l.out([1,0])\n",
    "W = np.array([[1,1],[1,1]])\n",
    "l.train(np.array([1,3]),W)\n"
   ]
  },
  {
   "cell_type": "markdown",
   "metadata": {},
   "source": [
    "## Task 5: Backpropagation in MLP (7 points - programming)\n",
    "\n",
    "Construct a class \"MLP\" with a list of layers of type \"MLPlayer\" called \"MLP.layers\" Also, there should be a method \"MLP.out(x)\" that returns the outputs of the whole network of the input vector \"x\".\n",
    "\n",
    "Make sure, that the size of the weight vector is bound to the number of inputs for the first layer and that the number of inputs for the following layers has to correspond with the number of neurons in the layer before. The number of outputs equals the number of neurons in the last layer.\n",
    "\n",
    "* The init function gets the number of inputs *x* and the number of nodes for each layer as a list. The number of neurons per layer and the number of inputs should be passed to the initialization method.\n",
    "\n",
    "* Include the backpropagation training algorithm as a method \"MLP.train()\" into the class. The passed arguments should consist of the number of iterations (no stopping criteria in this case), the training input and the training output - both as function pointers - as well as the learning rate. It should iterate over the layers, which themselves iterate over their neurons. Deltas and W will allways be the input to the previous layer.\n",
    "\n",
    "* The function x_train has to produce a random array of inputs of size [NoInputs,] and o_train has to produce the corresponding target function output. They should work without an argument passed and the target training output $o$ should be calculated using only that vector $x$.\n",
    "\n",
    "* The output of the method *train()* should consist of the sum-of-squares error within each iteration."
   ]
  },
  {
   "cell_type": "code",
   "execution_count": 12,
   "metadata": {},
   "outputs": [],
   "source": [
    "class MLP:\n",
    "    # nodes is array with length = #layers and digit = #nodes for that layer \n",
    "    def __init__(self, inputs, nodes, weightinit=np.random.randn,biasinit=np.random.randn,trafunc=logistic,dtrafunc=dlogistic):\n",
    "        self.layers = []\n",
    "        self.noInputs = inputs\n",
    "        self.noIterations = 10000\n",
    "        #for input layer\n",
    "        n_pre = inputs # number of nodes in the layer before -> needed for the weights\n",
    "        \n",
    "        for n in nodes:\n",
    "            self.layers.append(MLPlayer(n,n_pre,weightinit=weightinit,biasinit=biasinit,trafunc=trafunc,dtrafunc=dtrafunc))\n",
    "            n_pre = n\n",
    "        \n",
    "    def out(self, x):\n",
    "        #for layer 1 the output of the previous layer is x\n",
    "        output = x\n",
    "        \n",
    "        #iterating over the the layers\n",
    "        for l in self.layers:\n",
    "            output = l.out(output)\n",
    "            \n",
    "        return output\n",
    "    \n",
    "    def train(self, iterations, x, o, learnrate=0.1):\n",
    "        errors = np.zeros(iterations)\n",
    "        self.noIterations = iterations\n",
    "        \n",
    "        for it in range(iterations):\n",
    "            y = self.out(x[it,:])\n",
    "            deltanext = o[it,:]-y #o[it,:] because output can be a vector if more than one output neuron\n",
    "            errors[it] = 1/2*np.linalg.norm(np.array(deltanext),2)\n",
    "            \n",
    "            #start from backwards\n",
    "            i = len(self.layers)-1\n",
    "            #init weights after output node as 1\n",
    "            W = np.ones((1,self.layers[i].NodeNo))\n",
    "            #iterate form the back over the layers\n",
    "            while(i>=0):\n",
    "                deltanext,W = self.layers[i].train(deltanext,W,learnrate=learnrate)\n",
    "\n",
    "                i-=1\n",
    "    \n",
    "        return errors\n",
    "    \n",
    "    def x_train(self):\n",
    "        #create n (=number of iterations) samples of random vecotors of noInputs size containing only [0,1]\n",
    "        return np.random.randint(2, size=(self.noIterations, self.noInputs))\n",
    "    def o_train(self,x):\n",
    "        o = x[:,0]^x[:,1] #XOR function\n",
    "        #here it only works with 1-dim output\n",
    "        return o[:,np.newaxis]"
   ]
  },
  {
   "cell_type": "code",
   "execution_count": null,
   "metadata": {},
   "outputs": [],
   "source": []
  },
  {
   "cell_type": "markdown",
   "metadata": {},
   "source": [
    "## Task 6 Train an MLP on the XOR (1 point - programming)\n",
    "Train a Multi-Layer-Perceptron on the logical \"xor\"-function. Do 10.000 iterations and plot the evolution of the error. You don't need to implement a stopping criterion. Use the logistic function.\n",
    "\n",
    "Set the learning rate to $\\eta=1$.\n",
    "\n",
    "Investigate the following steps:\n",
    "\n",
    "a) The network should consist of two layers, where the first has the two input neurons and the second only one output neuron. Does it always converge?\n",
    "\n",
    "b) The network should consist of two layers, where the first has the three  input neurons and the second only one output neuron. Does it now always converge?\n",
    "\n",
    "What can we learn from this?\n",
    "\n",
    "If you haven't succeeded with task 5, you can import Exercise2helperPy36 or Exercise2helperPy27 (depending on your python version 3.6 or 2.7). The syntax of the contained MLP class is:\n",
    "*NeuralNetwork=MLP(NoInputs,ListNoNeuronsPerLayer)*\n",
    "for initialization and \n",
    "*errors=NeuralNetwork.train(NoIterations,x, o ,learnrate)* for training. $x$ and $o$ can either be functions as defined in task 5 or arrays of samples. If they are functions, $x$ has to produce a random array of inputs of size [NoInputs,] and $o(x)$ has to produce the corresponding target function output. If they are samples they have to have the shape *x.shape=[NoIterations,NoInputs]* and *o.shape=[NoIterations,NoOutputs]*.\n",
    "\n"
   ]
  },
  {
   "cell_type": "code",
   "execution_count": 19,
   "metadata": {},
   "outputs": [
    {
     "data": {
      "text/plain": [
       "array([0.02913478])"
      ]
     },
     "execution_count": 19,
     "metadata": {},
     "output_type": "execute_result"
    },
    {
     "data": {
      "image/png": "[encoded data removed]",
      "text/plain": [
       "<matplotlib.figure.Figure at 0x7f7d2adcb6d8>"
      ]
     },
     "metadata": {},
     "output_type": "display_data"
    }
   ],
   "source": [
    "#initialize\n",
    "\n",
    "x = np.random.randint(2, size=(10000, 2))\n",
    "#o = np.zeros((10000, 1)).astype(int)\n",
    "\n",
    "# o = np.zeros((10000, 1))\n",
    "\n",
    "#for i in range(x.shape[0]):\n",
    " #   o[i] = x[i][0] ^ x[i][1]\n",
    "\n",
    "#just an easier + quicker way to compute output\n",
    "o = x[:,0]^x[:,1]\n",
    "o = o[:,np.newaxis]\n",
    "    \n",
    "    \n",
    "#NeuralNetwork = helper.MLP(2, [3, 2]) #3 input nodes, and 2 output nodes. Always converge\n",
    "NeuralNetwork = helper.MLP(2, [2, 1]) #2 input nodes, and 1 output node. Does not always converge\n",
    "\n",
    "errors=NeuralNetwork.train(10000, x, o , 1) \n",
    "plt.plot(errors)\n",
    "\n",
    "#out = x[:,0]^x[:,1]\n",
    "#out = out[:,np.newaxis]\n",
    "o[1,:]\n",
    "y = NeuralNetwork.out(x[0,:])\n",
    "deltanext = o[0,:]-y\n",
    "deltanext"
   ]
  },
  {
   "cell_type": "code",
   "execution_count": 20,
   "metadata": {},
   "outputs": [
    {
     "data": {
      "text/plain": [
       "[<matplotlib.lines.Line2D at 0x7f7d2adcb5c0>]"
      ]
     },
     "execution_count": 20,
     "metadata": {},
     "output_type": "execute_result"
    },
    {
     "data": {
      "image/png": "[encoded data removed]",
      "text/plain": [
       "<matplotlib.figure.Figure at 0x7f7d2ae1e748>"
      ]
     },
     "metadata": {},
     "output_type": "display_data"
    }
   ],
   "source": [
    "NN = MLP(2,[2,1])\n",
    "#NN.x_train(),NN.o_train(x_train)\n",
    "err = NN.train(10000,x,o,learnrate = 1.0)\n",
    "plt.plot(err)"
   ]
  },
  {
   "cell_type": "code",
   "execution_count": 21,
   "metadata": {},
   "outputs": [
    {
     "data": {
      "text/plain": [
       "array([False])"
      ]
     },
     "execution_count": 21,
     "metadata": {},
     "output_type": "execute_result"
    }
   ],
   "source": [
    "NeuralNetwork.out(x[0,:]) == NN.out(x[0,:])"
   ]
  },
  {
   "cell_type": "code",
   "execution_count": null,
   "metadata": {},
   "outputs": [],
   "source": []
  },
  {
   "cell_type": "code",
   "execution_count": null,
   "metadata": {},
   "outputs": [],
   "source": []
  }
 ],
 "metadata": {
  "anaconda-cloud": {},
  "kernelspec": {
   "display_name": "Python 3",
   "language": "python",
   "name": "python3"
  },
  "language_info": {
   "codemirror_mode": {
    "name": "ipython",
    "version": 3
   },
   "file_extension": ".py",
   "mimetype": "text/x-python",
   "name": "python",
   "nbconvert_exporter": "python",
   "pygments_lexer": "ipython3",
   "version": "3.6.4"
  }
 },
 "nbformat": 4,
 "nbformat_minor": 1
}
